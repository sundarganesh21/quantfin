{
 "cells": [
  {
   "cell_type": "markdown",
   "id": "79bd81ac",
   "metadata": {},
   "source": [
    "# Factor Analysis & Cross-Sectional Returns\n",
    "## 1. Research Question\n",
    "We want to explore the CHF-EUR exchange rate, and examine when and whether the process is mean reverting. First, we pull the last 8 years of EURGBP data, 6 months at a time, at a frequency of 1 day. Over each 6 month period, we run the ADF test to determine whether the signal is mean reverting or not. In practice, instead of slicing up time like this, we could look at a rolling 1 month period, where with each month of incoming data, we can redo the test, and exit the strategy once mean reversion has been lost. \n",
    "\n"
   ]
  },
  {
   "cell_type": "code",
   "execution_count": 57,
   "id": "8b06e14d-ad4e-46f1-b8f2-c6be09ea857f",
   "metadata": {},
   "outputs": [
    {
     "name": "stderr",
     "output_type": "stream",
     "text": [
      "[*********************100%***********************]  1 of 1 completed\n",
      "[*********************100%***********************]  1 of 1 completed\n",
      "[*********************100%***********************]  1 of 1 completed\n",
      "[*********************100%***********************]  1 of 1 completed\n",
      "[*********************100%***********************]  1 of 1 completed\n",
      "[*********************100%***********************]  1 of 1 completed"
     ]
    },
    {
     "name": "stdout",
     "output_type": "stream",
     "text": [
      "0 2025-02-20 2025-08-21\n",
      "ADF Statistic, p-value: -1.7621740885069168 0.3993962303930299\n",
      "1 2024-08-21 2025-02-19\n",
      "ADF Statistic, p-value: -3.3234749950181905 0.01386120101975071\n",
      "2 2024-02-20 2024-08-20\n",
      "ADF Statistic, p-value: -1.8594515938423803 0.35137004173785163\n",
      "3 2023-08-21 2024-02-19\n",
      "ADF Statistic, p-value: -1.6292424067705251 0.4678872927450317\n",
      "4 2023-02-19 2023-08-20\n",
      "ADF Statistic, p-value: -1.5107113724912522 0.5282060783297294\n",
      "5 2022-08-20 2023-02-18\n"
     ]
    },
    {
     "name": "stderr",
     "output_type": "stream",
     "text": [
      "\n",
      "[*********************100%***********************]  1 of 1 completed\n",
      "[*********************100%***********************]  1 of 1 completed\n",
      "[*********************100%***********************]  1 of 1 completed\n",
      "[*********************100%***********************]  1 of 1 completed\n",
      "[*********************100%***********************]  1 of 1 completed\n",
      "[*********************100%***********************]  1 of 1 completed\n",
      "[*********************100%***********************]  1 of 1 completed\n"
     ]
    },
    {
     "name": "stdout",
     "output_type": "stream",
     "text": [
      "ADF Statistic, p-value: -3.996323483549774 0.001429885396954248\n",
      "6 2022-02-18 2022-08-19\n",
      "ADF Statistic, p-value: -2.3394499573369525 0.15955996339204737\n",
      "7 2021-08-19 2022-02-17\n",
      "ADF Statistic, p-value: -1.7837097469993621 0.38857881580221887\n",
      "8 2021-02-17 2021-08-18\n",
      "ADF Statistic, p-value: -2.9472358914896635 0.0401244082276791\n",
      "9 2020-08-18 2021-02-16\n",
      "ADF Statistic, p-value: -1.7591090000322502 0.4009434584827976\n",
      "10 2020-02-17 2020-08-17\n",
      "ADF Statistic, p-value: -2.9543590984089514 0.03938214338972673\n",
      "11 2019-08-18 2020-02-16\n",
      "ADF Statistic, p-value: -1.4840711965612121 0.541375860116361\n",
      "12 2019-02-16 2019-08-17\n"
     ]
    },
    {
     "name": "stderr",
     "output_type": "stream",
     "text": [
      "[*********************100%***********************]  1 of 1 completed\n",
      "[*********************100%***********************]  1 of 1 completed\n"
     ]
    },
    {
     "name": "stdout",
     "output_type": "stream",
     "text": [
      "ADF Statistic, p-value: 0.5490442255201542 0.9862899412341033\n",
      "13 2018-08-17 2019-02-15\n",
      "ADF Statistic, p-value: -2.30809140045944 0.16937161251739025\n",
      "14 2018-02-15 2018-08-16\n",
      "ADF Statistic, p-value: -2.269179278966837 0.1821009813460685\n"
     ]
    }
   ],
   "source": [
    "import pandas as pd\n",
    "import yfinance as yf\n",
    "import datetime as dt\n",
    "from statsmodels.tsa.stattools import adfuller\n",
    "\n",
    "end_date = dt.date(2025,8,21)\n",
    "for i in range(16):\n",
    "    start_date = end_date - dt.timedelta(weeks=26)\n",
    "    \n",
    "    # Example: Get EUR/CHF data\n",
    "    print(i, start_date, end_date)\n",
    "    data = yf.download(\"EURGBP=X\", start=start_date, end=end_date, interval='1d', auto_adjust=True)\n",
    "    \n",
    "    # Use closing prices\n",
    "    prices = data['Close'].dropna()\n",
    "    \n",
    "    # Run Augmented Dickey-Fuller test\n",
    "    result = adfuller(prices)\n",
    "    \n",
    "    # Print results\n",
    "    print(\"ADF Statistic, p-value:\", result[0], result[1])\n",
    "    #print(\"p-value:\", result[1])\n",
    "    #print(\"Critical Values:\", result[4])\n",
    "\n",
    "    # Move time backward\n",
    "    end_date = start_date - dt.timedelta(days=1)"
   ]
  },
  {
   "cell_type": "code",
   "execution_count": 62,
   "id": "41da7a2d-deb2-4a1f-b3a0-1b9d1996fcae",
   "metadata": {},
   "outputs": [
    {
     "name": "stderr",
     "output_type": "stream",
     "text": [
      "[*********************100%***********************]  1 of 1 completed"
     ]
    },
    {
     "name": "stdout",
     "output_type": "stream",
     "text": [
      "ADF Statistic: -3.210546091087419\n",
      "p-value: 0.01938228837665944\n",
      "Critical Values: {'1%': -3.482087964046026, '5%': -2.8842185101614626, '10%': -2.578864381347275}\n"
     ]
    },
    {
     "name": "stderr",
     "output_type": "stream",
     "text": [
      "\n"
     ]
    }
   ],
   "source": [
    "import pandas as pd\n",
    "import yfinance as yf\n",
    "from statsmodels.tsa.stattools import adfuller\n",
    "\n",
    "# Example: Get EUR/CHF data\n",
    "data = yf.download(\"EURGBP=X\", start=\"2024-08-21\", end=\"2025-02-20\", interval='1d', auto_adjust=True)\n",
    "#data = yf.download(\"EURCHF=X\", period=\"5d\", interval='1m')\n",
    "\n",
    "# Use closing prices\n",
    "prices = data['Close'].dropna()\n",
    "\n",
    "# Run Augmented Dickey-Fuller test\n",
    "result = adfuller(prices)\n",
    "\n",
    "# Print results\n",
    "print(\"ADF Statistic:\", result[0])\n",
    "print(\"p-value:\", result[1])\n",
    "print(\"Critical Values:\", result[4])"
   ]
  },
  {
   "cell_type": "code",
   "execution_count": 64,
   "id": "033b622f-4f3d-46c6-ac89-a882dced84b4",
   "metadata": {},
   "outputs": [
    {
     "data": {
      "text/plain": [
       "[<matplotlib.lines.Line2D at 0x1bd013d2c30>]"
      ]
     },
     "execution_count": 64,
     "metadata": {},
     "output_type": "execute_result"
    },
    {
     "data": {
      "image/png": "[encoded data removed]",
      "text/plain": [
       "<Figure size 640x480 with 1 Axes>"
      ]
     },
     "metadata": {},
     "output_type": "display_data"
    }
   ],
   "source": [
    "data\n",
    "import matplotlib.pyplot as plt\n",
    "plt.plot(prices)"
   ]
  },
  {
   "cell_type": "code",
   "execution_count": 16,
   "id": "9f18be29-a304-47ee-a706-d29c1981b6bd",
   "metadata": {},
   "outputs": [
    {
     "data": {
      "text/html": [
       "<div>\n",
       "<style scoped>\n",
       "    .dataframe tbody tr th:only-of-type {\n",
       "        vertical-align: middle;\n",
       "    }\n",
       "\n",
       "    .dataframe tbody tr th {\n",
       "        vertical-align: top;\n",
       "    }\n",
       "\n",
       "    .dataframe thead tr th {\n",
       "        text-align: left;\n",
       "    }\n",
       "\n",
       "    .dataframe thead tr:last-of-type th {\n",
       "        text-align: right;\n",
       "    }\n",
       "</style>\n",
       "<table border=\"1\" class=\"dataframe\">\n",
       "  <thead>\n",
       "    <tr>\n",
       "      <th>Price</th>\n",
       "      <th>Close</th>\n",
       "      <th>High</th>\n",
       "      <th>Low</th>\n",
       "      <th>Open</th>\n",
       "      <th>Volume</th>\n",
       "    </tr>\n",
       "    <tr>\n",
       "      <th>Ticker</th>\n",
       "      <th>EURCHF=X</th>\n",
       "      <th>EURCHF=X</th>\n",
       "      <th>EURCHF=X</th>\n",
       "      <th>EURCHF=X</th>\n",
       "      <th>EURCHF=X</th>\n",
       "    </tr>\n",
       "    <tr>\n",
       "      <th>Date</th>\n",
       "      <th></th>\n",
       "      <th></th>\n",
       "      <th></th>\n",
       "      <th></th>\n",
       "      <th></th>\n",
       "    </tr>\n",
       "  </thead>\n",
       "  <tbody>\n",
       "    <tr>\n",
       "      <th>2010-01-01</th>\n",
       "      <td>1.48450</td>\n",
       "      <td>1.48450</td>\n",
       "      <td>1.47920</td>\n",
       "      <td>1.48340</td>\n",
       "      <td>0</td>\n",
       "    </tr>\n",
       "    <tr>\n",
       "      <th>2010-01-04</th>\n",
       "      <td>1.48440</td>\n",
       "      <td>1.48880</td>\n",
       "      <td>1.48080</td>\n",
       "      <td>1.48350</td>\n",
       "      <td>0</td>\n",
       "    </tr>\n",
       "    <tr>\n",
       "      <th>2010-01-05</th>\n",
       "      <td>1.48460</td>\n",
       "      <td>1.48740</td>\n",
       "      <td>1.48240</td>\n",
       "      <td>1.48450</td>\n",
       "      <td>0</td>\n",
       "    </tr>\n",
       "    <tr>\n",
       "      <th>2010-01-06</th>\n",
       "      <td>1.48000</td>\n",
       "      <td>1.48560</td>\n",
       "      <td>1.47890</td>\n",
       "      <td>1.48470</td>\n",
       "      <td>0</td>\n",
       "    </tr>\n",
       "    <tr>\n",
       "      <th>2010-01-07</th>\n",
       "      <td>1.47970</td>\n",
       "      <td>1.48380</td>\n",
       "      <td>1.47660</td>\n",
       "      <td>1.47980</td>\n",
       "      <td>0</td>\n",
       "    </tr>\n",
       "    <tr>\n",
       "      <th>...</th>\n",
       "      <td>...</td>\n",
       "      <td>...</td>\n",
       "      <td>...</td>\n",
       "      <td>...</td>\n",
       "      <td>...</td>\n",
       "    </tr>\n",
       "    <tr>\n",
       "      <th>2024-12-25</th>\n",
       "      <td>0.93870</td>\n",
       "      <td>0.93710</td>\n",
       "      <td>0.93640</td>\n",
       "      <td>0.93650</td>\n",
       "      <td>0</td>\n",
       "    </tr>\n",
       "    <tr>\n",
       "      <th>2024-12-26</th>\n",
       "      <td>0.93525</td>\n",
       "      <td>0.93804</td>\n",
       "      <td>0.93508</td>\n",
       "      <td>0.93525</td>\n",
       "      <td>0</td>\n",
       "    </tr>\n",
       "    <tr>\n",
       "      <th>2024-12-27</th>\n",
       "      <td>0.93683</td>\n",
       "      <td>0.94050</td>\n",
       "      <td>0.93599</td>\n",
       "      <td>0.93683</td>\n",
       "      <td>0</td>\n",
       "    </tr>\n",
       "    <tr>\n",
       "      <th>2024-12-30</th>\n",
       "      <td>0.94052</td>\n",
       "      <td>0.94403</td>\n",
       "      <td>0.93980</td>\n",
       "      <td>0.94052</td>\n",
       "      <td>0</td>\n",
       "    </tr>\n",
       "    <tr>\n",
       "      <th>2024-12-31</th>\n",
       "      <td>0.93990</td>\n",
       "      <td>0.94270</td>\n",
       "      <td>0.93778</td>\n",
       "      <td>0.93990</td>\n",
       "      <td>0</td>\n",
       "    </tr>\n",
       "  </tbody>\n",
       "</table>\n",
       "<p>3908 rows × 5 columns</p>\n",
       "</div>"
      ],
      "text/plain": [
       "Price         Close     High      Low     Open   Volume\n",
       "Ticker     EURCHF=X EURCHF=X EURCHF=X EURCHF=X EURCHF=X\n",
       "Date                                                   \n",
       "2010-01-01  1.48450  1.48450  1.47920  1.48340        0\n",
       "2010-01-04  1.48440  1.48880  1.48080  1.48350        0\n",
       "2010-01-05  1.48460  1.48740  1.48240  1.48450        0\n",
       "2010-01-06  1.48000  1.48560  1.47890  1.48470        0\n",
       "2010-01-07  1.47970  1.48380  1.47660  1.47980        0\n",
       "...             ...      ...      ...      ...      ...\n",
       "2024-12-25  0.93870  0.93710  0.93640  0.93650        0\n",
       "2024-12-26  0.93525  0.93804  0.93508  0.93525        0\n",
       "2024-12-27  0.93683  0.94050  0.93599  0.93683        0\n",
       "2024-12-30  0.94052  0.94403  0.93980  0.94052        0\n",
       "2024-12-31  0.93990  0.94270  0.93778  0.93990        0\n",
       "\n",
       "[3908 rows x 5 columns]"
      ]
     },
     "execution_count": 16,
     "metadata": {},
     "output_type": "execute_result"
    }
   ],
   "source": [
    "data"
   ]
  },
  {
   "cell_type": "code",
   "execution_count": null,
   "id": "55a9a10e-9911-4a21-ab8a-583dba679c45",
   "metadata": {},
   "outputs": [],
   "source": [
    "## 2. Data\n",
    "...\n",
    "## 3. Methodology\n",
    "...\n",
    "## 4. Results\n",
    "...\n",
    "## 5. Limitations\n",
    "...\n",
    "## 6. Code"
   ]
  }
 ],
 "metadata": {
  "kernelspec": {
   "display_name": "Python [conda env:base] *",
   "language": "python",
   "name": "conda-base-py"
  },
  "language_info": {
   "codemirror_mode": {
    "name": "ipython",
    "version": 3
   },
   "file_extension": ".py",
   "mimetype": "text/x-python",
   "name": "python",
   "nbconvert_exporter": "python",
   "pygments_lexer": "ipython3",
   "version": "3.12.7"
  }
 },
 "nbformat": 4,
 "nbformat_minor": 5
}
