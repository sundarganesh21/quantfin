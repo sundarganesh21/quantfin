{
 "cells": [
  {
   "cell_type": "markdown",
   "id": "79bd81ac",
   "metadata": {},
   "source": [
    "# Mean Reversion & Moving Averages\n",
    "## 1. Research Question\n",
    "We want to explore the EUR-GBP exchange rate, and examine when and whether the process is mean reverting. If it is indeed mean reverting, then we can extract a half-life of mean reversion from the time signal, and use that to parametrize a moving average trading strategy.\n",
    "\n",
    "## 2. Data & Mean Reversion Tests\n",
    "For data, we pull the last 20 years of EURGBP data at a frequency of 1 day. We then look at approximately 3 year long windows (1100 days), starting approximately every quarter (90 days). We then run the ADF test on each block to determine whether the signal is mean reverting during this period or not. Specifically, we look windows when p < 0.05."
   ]
  },
  {
   "cell_type": "code",
   "execution_count": 1,
   "id": "0cfa514a-7d1b-43c3-a18e-f1d3b8715ebe",
   "metadata": {},
   "outputs": [
    {
     "name": "stderr",
     "output_type": "stream",
     "text": [
      "[*********************100%***********************]  1 of 1 completed\n"
     ]
    },
    {
     "data": {
      "text/html": [
       "<div>\n",
       "<style scoped>\n",
       "    .dataframe tbody tr th:only-of-type {\n",
       "        vertical-align: middle;\n",
       "    }\n",
       "\n",
       "    .dataframe tbody tr th {\n",
       "        vertical-align: top;\n",
       "    }\n",
       "\n",
       "    .dataframe thead tr th {\n",
       "        text-align: left;\n",
       "    }\n",
       "</style>\n",
       "<table border=\"1\" class=\"dataframe\">\n",
       "  <thead>\n",
       "    <tr>\n",
       "      <th>Price</th>\n",
       "      <th>Close</th>\n",
       "      <th>High</th>\n",
       "      <th>Low</th>\n",
       "      <th>Open</th>\n",
       "      <th>Volume</th>\n",
       "    </tr>\n",
       "    <tr>\n",
       "      <th>Ticker</th>\n",
       "      <th>EURGBP=X</th>\n",
       "      <th>EURGBP=X</th>\n",
       "      <th>EURGBP=X</th>\n",
       "      <th>EURGBP=X</th>\n",
       "      <th>EURGBP=X</th>\n",
       "    </tr>\n",
       "  </thead>\n",
       "  <tbody>\n",
       "    <tr>\n",
       "      <th>count</th>\n",
       "      <td>5207.000000</td>\n",
       "      <td>5207.000000</td>\n",
       "      <td>5207.000000</td>\n",
       "      <td>5207.000000</td>\n",
       "      <td>5207.0</td>\n",
       "    </tr>\n",
       "    <tr>\n",
       "      <th>mean</th>\n",
       "      <td>0.826734</td>\n",
       "      <td>0.829519</td>\n",
       "      <td>0.823910</td>\n",
       "      <td>0.826732</td>\n",
       "      <td>0.0</td>\n",
       "    </tr>\n",
       "    <tr>\n",
       "      <th>std</th>\n",
       "      <td>0.068432</td>\n",
       "      <td>0.068843</td>\n",
       "      <td>0.068996</td>\n",
       "      <td>0.068447</td>\n",
       "      <td>0.0</td>\n",
       "    </tr>\n",
       "    <tr>\n",
       "      <th>min</th>\n",
       "      <td>0.654900</td>\n",
       "      <td>0.657000</td>\n",
       "      <td>0.006600</td>\n",
       "      <td>0.654900</td>\n",
       "      <td>0.0</td>\n",
       "    </tr>\n",
       "    <tr>\n",
       "      <th>25%</th>\n",
       "      <td>0.795275</td>\n",
       "      <td>0.797965</td>\n",
       "      <td>0.792585</td>\n",
       "      <td>0.795480</td>\n",
       "      <td>0.0</td>\n",
       "    </tr>\n",
       "    <tr>\n",
       "      <th>50%</th>\n",
       "      <td>0.850190</td>\n",
       "      <td>0.853090</td>\n",
       "      <td>0.847700</td>\n",
       "      <td>0.850200</td>\n",
       "      <td>0.0</td>\n",
       "    </tr>\n",
       "    <tr>\n",
       "      <th>75%</th>\n",
       "      <td>0.873400</td>\n",
       "      <td>0.876940</td>\n",
       "      <td>0.870615</td>\n",
       "      <td>0.873450</td>\n",
       "      <td>0.0</td>\n",
       "    </tr>\n",
       "    <tr>\n",
       "      <th>max</th>\n",
       "      <td>0.979000</td>\n",
       "      <td>0.979700</td>\n",
       "      <td>0.967800</td>\n",
       "      <td>0.977500</td>\n",
       "      <td>0.0</td>\n",
       "    </tr>\n",
       "  </tbody>\n",
       "</table>\n",
       "</div>"
      ],
      "text/plain": [
       "Price         Close         High          Low         Open   Volume\n",
       "Ticker     EURGBP=X     EURGBP=X     EURGBP=X     EURGBP=X EURGBP=X\n",
       "count   5207.000000  5207.000000  5207.000000  5207.000000   5207.0\n",
       "mean       0.826734     0.829519     0.823910     0.826732      0.0\n",
       "std        0.068432     0.068843     0.068996     0.068447      0.0\n",
       "min        0.654900     0.657000     0.006600     0.654900      0.0\n",
       "25%        0.795275     0.797965     0.792585     0.795480      0.0\n",
       "50%        0.850190     0.853090     0.847700     0.850200      0.0\n",
       "75%        0.873400     0.876940     0.870615     0.873450      0.0\n",
       "max        0.979000     0.979700     0.967800     0.977500      0.0"
      ]
     },
     "execution_count": 1,
     "metadata": {},
     "output_type": "execute_result"
    }
   ],
   "source": [
    "import numpy as np\n",
    "import pandas as pd\n",
    "import yfinance as yf\n",
    "from statsmodels.tsa.stattools import adfuller\n",
    "import statsmodels.api as sm\n",
    "import matplotlib.pyplot as plt\n",
    "\n",
    "# Example: Get EUR/CHF data\n",
    "data = yf.download(\"EURGBP=X\", start='2005-08-21', end='2025-08-21', interval='1d', auto_adjust=True)\n",
    "data.describe()"
   ]
  },
  {
   "cell_type": "code",
   "execution_count": 2,
   "id": "fc90016b-ba62-4c39-a189-f8b88d7bcf86",
   "metadata": {},
   "outputs": [
    {
     "name": "stdout",
     "output_type": "stream",
     "text": [
      "start_idx, end_idx, ADF Statistic, p-value: 630 1730 -2.9718516101512455 0.037608038707527755\n",
      "start_idx, end_idx, ADF Statistic, p-value: 2700 3800 -3.33754841032919 0.013281248617050344\n",
      "start_idx, end_idx, ADF Statistic, p-value: 2790 3890 -3.672694709270741 0.004514038903400763\n",
      "start_idx, end_idx, ADF Statistic, p-value: 2880 3980 -3.7741369500855964 0.0031832931339030976\n",
      "start_idx, end_idx, ADF Statistic, p-value: 2970 4070 -3.3403097381336004 0.013170010572767657\n",
      "start_idx, end_idx, ADF Statistic, p-value: 3060 4160 -3.4025804030352877 0.010871219750181304\n",
      "start_idx, end_idx, ADF Statistic, p-value: 3150 4250 -3.1829730339815683 0.02099166491397477\n"
     ]
    }
   ],
   "source": [
    "start_idx = 0\n",
    "end_idx = 1100\n",
    "while True:\n",
    "    # Extract subset\n",
    "    df = data.iloc[start_idx:end_idx]\n",
    "\n",
    "    # Extract close prices\n",
    "    prices = df['Close'].dropna()\n",
    "\n",
    "    # Run Augmented Dickey-Fuller test\n",
    "    result = adfuller(prices)\n",
    "\n",
    "    # Print results\n",
    "    if result[1] < 0.05:\n",
    "        print(\"start_idx, end_idx, ADF Statistic, p-value:\", start_idx, end_idx, result[0], result[1])    \n",
    "\n",
    "    # Move window forward by 90 days\n",
    "    start_idx = start_idx + 90\n",
    "    end_idx = end_idx + 90\n",
    "    if end_idx > len(data):\n",
    "        break\n",
    "    "
   ]
  },
  {
   "cell_type": "markdown",
   "id": "59f6815b-dad4-459c-9119-b01f4e631edb",
   "metadata": {},
   "source": [
    "## 3. Extracting Half-Life of Mean Reversion\n",
    "Great! Looks like there was a time window of a few years when the signal was mean reverting. Let's plot the signal to get a feel for it, then let's regress an AR(1) model on it to obtain a half-life value. "
   ]
  },
  {
   "cell_type": "code",
   "execution_count": 3,
   "id": "b8e5e95e-e4d1-4081-a93f-d790799538f0",
   "metadata": {},
   "outputs": [
    {
     "data": {
      "text/plain": [
       "Text(0, 0.5, 'GBP for 1 EUR')"
      ]
     },
     "execution_count": 3,
     "metadata": {},
     "output_type": "execute_result"
    },
    {
     "data": {
      "image/png": "[encoded data removed]",
      "text/plain": [
       "<Figure size 640x480 with 1 Axes>"
      ]
     },
     "metadata": {},
     "output_type": "display_data"
    }
   ],
   "source": [
    "window_start = 2700\n",
    "window_end = 4250\n",
    "df = data.iloc[window_start:window_end]\n",
    "plt.plot(df['Close'].dropna())\n",
    "plt.ylabel('GBP for 1 EUR')"
   ]
  },
  {
   "cell_type": "code",
   "execution_count": 4,
   "id": "41da7a2d-deb2-4a1f-b3a0-1b9d1996fcae",
   "metadata": {},
   "outputs": [
    {
     "name": "stdout",
     "output_type": "stream",
     "text": [
      "Half-life: 51.24236780923417\n"
     ]
    },
    {
     "name": "stderr",
     "output_type": "stream",
     "text": [
      "C:\\Users\\sunda\\AppData\\Local\\Temp\\ipykernel_18508\\725049562.py:14: FutureWarning: Series.__getitem__ treating keys as positions is deprecated. In a future version, integer keys will always be treated as labels (consistent with DataFrame behavior). To access a value by position, use `ser.iloc[pos]`\n",
      "  beta = model.params[1]  # coefficient on y_{t-1}\n"
     ]
    }
   ],
   "source": [
    "# Regression to find half life\n",
    "y = df['Close'].dropna()\n",
    "\n",
    "# Regress y_t on y_{t-1}\n",
    "y_lag = y.shift(1).dropna()\n",
    "y_ret = y.diff().dropna()  # Δy_t = y_t - y_{t-1}\n",
    "\n",
    "# Align\n",
    "y_lag = y_lag.loc[y_ret.index]\n",
    "\n",
    "X = sm.add_constant(y_lag)  # add intercept\n",
    "model = sm.OLS(y_ret, X).fit()\n",
    "\n",
    "beta = model.params[1]  # coefficient on y_{t-1}\n",
    "\n",
    "# 2. Convert to half-life\n",
    "half_life = -np.log(2) / beta\n",
    "print(\"Half-life:\", half_life)"
   ]
  },
  {
   "cell_type": "markdown",
   "id": "71b45b34-f143-4cee-8ebc-1a2ebe69e1ec",
   "metadata": {},
   "source": [
    "## 4. Algorithm 1: Moving Z-score\n",
    "# 4.1. The \"when\"\n",
    "Now that we know the half-life of reversion is about 51 days, we can use that to implement a simple moving Z-score algorithm. The idea is pretty starightforward. We have a natural window to implement lookbacks. Using this, we can compute rolling means and standard deviations over this window. "
   ]
  },
  {
   "cell_type": "code",
   "execution_count": 5,
   "id": "55a9a10e-9911-4a21-ab8a-583dba679c45",
   "metadata": {},
   "outputs": [],
   "source": [
    "# Rolling mean & std over half-life window\n",
    "lookback = 51  # half-life\n",
    "rolling_mean = y.rolling(window=lookback).mean()\n",
    "rolling_std  = y.rolling(window=lookback).std()\n",
    "\n",
    "zscore = (y - rolling_mean) / rolling_std\n",
    "\n",
    "# Example trading rule\n",
    "entryZ = 1.0   # enter when |z| > 1\n",
    "exitZ  = 0.0   # exit when z crosses 0\n",
    "\n",
    "longs  = zscore < -entryZ   # If it goes down, 1 EUR = less GBP => buy EUR and sell GBP\n",
    "shorts = zscore >  entryZ   # If it goes up, 1 EUR = more GBP => buy GBP and sell EUR\n",
    "exits  = zscore.abs() < exitZ # Exit when position crosses mean, i.e., buy back all GBP as EUR at current \"mean\" value"
   ]
  },
  {
   "cell_type": "markdown",
   "id": "db277af1-6fe1-41be-a0f0-a90932041aeb",
   "metadata": {},
   "source": [
    "# 4.2. The \"how much\"\n",
    "How much do we trade when the signal says trade? Let's assume a simple strategy - when the signal says go long, buy 1 unit of EUR. When it says go short, sell 1 unit of EUR. When it says exit, buy back EUR using GBP until EUR back at original capital position."
   ]
  },
  {
   "cell_type": "code",
   "execution_count": 20,
   "id": "be619379-35f5-4773-9be2-1882be2b8bfd",
   "metadata": {},
   "outputs": [
    {
     "name": "stdout",
     "output_type": "stream",
     "text": [
      "173.55999946594238 223.99088738039615 29.056745834082463\n"
     ]
    },
    {
     "name": "stderr",
     "output_type": "stream",
     "text": [
      "C:\\Users\\sunda\\AppData\\Local\\Temp\\ipykernel_18508\\587473409.py:8: FutureWarning: Series.bool is now deprecated and will be removed in future version of pandas\n",
      "  if longs.iloc[t].bool():\n",
      "C:\\Users\\sunda\\AppData\\Local\\Temp\\ipykernel_18508\\587473409.py:10: FutureWarning: Series.bool is now deprecated and will be removed in future version of pandas\n",
      "  elif shorts.iloc[t].bool():\n",
      "C:\\Users\\sunda\\AppData\\Local\\Temp\\ipykernel_18508\\587473409.py:12: FutureWarning: Series.bool is now deprecated and will be removed in future version of pandas\n",
      "  elif exits.iloc[t].bool():\n"
     ]
    }
   ],
   "source": [
    "# Extract time stamps and prices\n",
    "timestamps = y.index.tolist()\n",
    "exchange = y['EURGBP=X'].values.tolist()\n",
    "\n",
    "# First, we translate buy, sell and exit as +1, -1 and set to 0\n",
    "position = [0]*len(y)\n",
    "for t in range(1, len(y)):\n",
    "    if longs.iloc[t].bool():\n",
    "        position[t] = 1      # long 1 unit\n",
    "    elif shorts.iloc[t].bool():\n",
    "        position[t] = -1     # short 1 unit\n",
    "    elif exits.iloc[t].bool():\n",
    "        position[t] = -10      # exit\n",
    "    else:\n",
    "        position[t] = 0  # hold previous position\n",
    "\n",
    "# Then we compute the percentage change in the FX exchange rate, then multiple that by position to get\n",
    "eur_pos = 100\n",
    "gbp_pos = 100\n",
    "eur_val = []\n",
    "gbp_val = []\n",
    "total_val = eur_pos + gbp_pos * exchange[0]\n",
    "pos_size = 5 # Absolute returns scaled with position size, so normalize position size to 1 unit EUR\n",
    "for i in range(len(position)):\n",
    "    eur_pos = eur_pos + pos_size * position[i]\n",
    "    gbp_pos = gbp_pos - pos_size * position[i] * exchange[i]\n",
    "    eur_val.append(eur_pos)\n",
    "    gbp_val.append(gbp_pos)\n",
    "total_val_final = eur_pos + gbp_pos * exchange[-1]\n",
    "print(total_val, total_val_final, 100*(total_val_final-total_val)/total_val)\n"
   ]
  },
  {
   "cell_type": "code",
   "execution_count": null,
   "id": "37e4268c-e7e7-454d-be81-bb707613ae54",
   "metadata": {},
   "outputs": [],
   "source": []
  }
 ],
 "metadata": {
  "kernelspec": {
   "display_name": "Python [conda env:base] *",
   "language": "python",
   "name": "conda-base-py"
  },
  "language_info": {
   "codemirror_mode": {
    "name": "ipython",
    "version": 3
   },
   "file_extension": ".py",
   "mimetype": "text/x-python",
   "name": "python",
   "nbconvert_exporter": "python",
   "pygments_lexer": "ipython3",
   "version": "3.12.7"
  }
 },
 "nbformat": 4,
 "nbformat_minor": 5
}
