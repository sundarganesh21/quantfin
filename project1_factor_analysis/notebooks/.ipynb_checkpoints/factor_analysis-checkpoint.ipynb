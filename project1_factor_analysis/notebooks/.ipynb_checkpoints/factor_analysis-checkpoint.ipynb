{
  "cells": [
    {
      "cell_type": "markdown",
      "metadata": {},
      "source": [
        "# Factor Analysis & Cross-Sectional Returns\n",
        "## 1. Research Question\n",
        "...\n",
        "## 2. Data\n",
        "...\n",
        "## 3. Methodology\n",
        "...\n",
        "## 4. Results\n",
        "...\n",
        "## 5. Limitations\n",
        "...\n",
        "## 6. Code\n"
      ]
    }
  ],
  "metadata": {
    "kernelspec": {
      "display_name": "Python 3",
      "language": "python",
      "name": "python3"
    },
    "language_info": {
      "name": "python",
      "version": "3.10"
    }
  },
  "nbformat": 4,
  "nbformat_minor": 5
}