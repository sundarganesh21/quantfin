{
 "cells": [
  {
   "cell_type": "markdown",
   "id": "79bd81ac",
   "metadata": {},
   "source": [
    "# Factor Analysis & Cross-Sectional Returns\n",
    "## 1. Research Question\n",
    "Let's have a look at some basic factor analysis. We'd like to see how the S&P500's price correlates with the following macroeconomic data:\n",
    "- US interest rates\n",
    "- US Inflation\n",
    "- US Unemployment\n",
    "- Brent crude price\n",
    "\n"
   ]
  },
  {
   "cell_type": "code",
   "execution_count": 1,
   "id": "41da7a2d-deb2-4a1f-b3a0-1b9d1996fcae",
   "metadata": {},
   "outputs": [
    {
     "name": "stderr",
     "output_type": "stream",
     "text": [
      "C:\\Users\\Sundar\\AppData\\Local\\Temp\\ipykernel_2796\\1753820728.py:3: FutureWarning: YF.download() has changed argument auto_adjust default to True\n",
      "  df = yf.download('SPY', dt.date(2024,1,1), dt.datetime(2025,1,1), '1d')\n",
      "[*********************100%***********************]  1 of 1 completed\n"
     ]
    },
    {
     "data": {
      "text/html": [
       "<div>\n",
       "<style scoped>\n",
       "    .dataframe tbody tr th:only-of-type {\n",
       "        vertical-align: middle;\n",
       "    }\n",
       "\n",
       "    .dataframe tbody tr th {\n",
       "        vertical-align: top;\n",
       "    }\n",
       "\n",
       "    .dataframe thead tr th {\n",
       "        text-align: left;\n",
       "    }\n",
       "\n",
       "    .dataframe thead tr:last-of-type th {\n",
       "        text-align: right;\n",
       "    }\n",
       "</style>\n",
       "<table border=\"1\" class=\"dataframe\">\n",
       "  <thead>\n",
       "    <tr>\n",
       "      <th>Price</th>\n",
       "      <th>Capital Gains</th>\n",
       "      <th>Close</th>\n",
       "      <th>Dividends</th>\n",
       "      <th>High</th>\n",
       "      <th>Low</th>\n",
       "      <th>Open</th>\n",
       "      <th>Stock Splits</th>\n",
       "      <th>Volume</th>\n",
       "    </tr>\n",
       "    <tr>\n",
       "      <th>Ticker</th>\n",
       "      <th>SPY</th>\n",
       "      <th>SPY</th>\n",
       "      <th>SPY</th>\n",
       "      <th>SPY</th>\n",
       "      <th>SPY</th>\n",
       "      <th>SPY</th>\n",
       "      <th>SPY</th>\n",
       "      <th>SPY</th>\n",
       "    </tr>\n",
       "    <tr>\n",
       "      <th>Date</th>\n",
       "      <th></th>\n",
       "      <th></th>\n",
       "      <th></th>\n",
       "      <th></th>\n",
       "      <th></th>\n",
       "      <th></th>\n",
       "      <th></th>\n",
       "      <th></th>\n",
       "    </tr>\n",
       "  </thead>\n",
       "  <tbody>\n",
       "    <tr>\n",
       "      <th>2024-01-02</th>\n",
       "      <td>0.0</td>\n",
       "      <td>463.892975</td>\n",
       "      <td>0.0</td>\n",
       "      <td>464.894096</td>\n",
       "      <td>461.772991</td>\n",
       "      <td>463.412063</td>\n",
       "      <td>0.0</td>\n",
       "      <td>123623700</td>\n",
       "    </tr>\n",
       "    <tr>\n",
       "      <th>2024-01-03</th>\n",
       "      <td>0.0</td>\n",
       "      <td>460.104492</td>\n",
       "      <td>0.0</td>\n",
       "      <td>462.460020</td>\n",
       "      <td>459.495984</td>\n",
       "      <td>461.714091</td>\n",
       "      <td>0.0</td>\n",
       "      <td>103585900</td>\n",
       "    </tr>\n",
       "    <tr>\n",
       "      <th>2024-01-04</th>\n",
       "      <td>0.0</td>\n",
       "      <td>458.622467</td>\n",
       "      <td>0.0</td>\n",
       "      <td>462.234279</td>\n",
       "      <td>458.396718</td>\n",
       "      <td>459.623558</td>\n",
       "      <td>0.0</td>\n",
       "      <td>84232200</td>\n",
       "    </tr>\n",
       "    <tr>\n",
       "      <th>2024-01-05</th>\n",
       "      <td>0.0</td>\n",
       "      <td>459.250610</td>\n",
       "      <td>0.0</td>\n",
       "      <td>461.723910</td>\n",
       "      <td>457.788196</td>\n",
       "      <td>458.828554</td>\n",
       "      <td>0.0</td>\n",
       "      <td>86118900</td>\n",
       "    </tr>\n",
       "    <tr>\n",
       "      <th>2024-01-08</th>\n",
       "      <td>0.0</td>\n",
       "      <td>465.806793</td>\n",
       "      <td>0.0</td>\n",
       "      <td>465.954008</td>\n",
       "      <td>459.623499</td>\n",
       "      <td>459.751096</td>\n",
       "      <td>0.0</td>\n",
       "      <td>74879100</td>\n",
       "    </tr>\n",
       "  </tbody>\n",
       "</table>\n",
       "</div>"
      ],
      "text/plain": [
       "Price      Capital Gains       Close Dividends        High         Low  \\\n",
       "Ticker               SPY         SPY       SPY         SPY         SPY   \n",
       "Date                                                                     \n",
       "2024-01-02           0.0  463.892975       0.0  464.894096  461.772991   \n",
       "2024-01-03           0.0  460.104492       0.0  462.460020  459.495984   \n",
       "2024-01-04           0.0  458.622467       0.0  462.234279  458.396718   \n",
       "2024-01-05           0.0  459.250610       0.0  461.723910  457.788196   \n",
       "2024-01-08           0.0  465.806793       0.0  465.954008  459.623499   \n",
       "\n",
       "Price             Open Stock Splits     Volume  \n",
       "Ticker             SPY          SPY        SPY  \n",
       "Date                                            \n",
       "2024-01-02  463.412063          0.0  123623700  \n",
       "2024-01-03  461.714091          0.0  103585900  \n",
       "2024-01-04  459.623558          0.0   84232200  \n",
       "2024-01-05  458.828554          0.0   86118900  \n",
       "2024-01-08  459.751096          0.0   74879100  "
      ]
     },
     "execution_count": 1,
     "metadata": {},
     "output_type": "execute_result"
    }
   ],
   "source": [
    "import yfinance as yf\n",
    "import datetime as dt\n",
    "df = yf.download('SPY', dt.date(2024,1,1), dt.datetime(2025,1,1), '1d')\n",
    "df.head()"
   ]
  },
  {
   "cell_type": "code",
   "execution_count": 4,
   "id": "033b622f-4f3d-46c6-ac89-a882dced84b4",
   "metadata": {},
   "outputs": [
    {
     "name": "stdout",
     "output_type": "stream",
     "text": [
      "1948-01-01    3.4\n",
      "1948-02-01    3.8\n",
      "1948-03-01    4.0\n",
      "1948-04-01    3.9\n",
      "1948-05-01    3.5\n",
      "             ... \n",
      "2025-03-01    4.2\n",
      "2025-04-01    4.2\n",
      "2025-05-01    4.2\n",
      "2025-06-01    4.1\n",
      "2025-07-01    4.2\n",
      "Length: 931, dtype: float64\n"
     ]
    }
   ],
   "source": [
    "from fredapi import Fred\n",
    "fred = Fred(api_key='61f1753bbda1fa6b0c147b50325542e7')\n",
    "\n",
    "# Example: US Unemployment Rate\n",
    "unemployment = fred.get_series(\"UNRATE\")\n",
    "\n",
    "# Example: Effective Federal Funds Rate\n",
    "fedfunds = fred.get_series(\"FEDFUNDS\")\n",
    "\n",
    "# Example: CPI Inflation\n",
    "cpi = fred.get_series(\"CPIAUCSL\")\n",
    "\n"
   ]
  },
  {
   "cell_type": "code",
   "execution_count": 5,
   "id": "9f18be29-a304-47ee-a706-d29c1981b6bd",
   "metadata": {},
   "outputs": [
    {
     "data": {
      "text/plain": [
       "1947-01-01    21.48\n",
       "1947-02-01    21.62\n",
       "1947-03-01    22.00\n",
       "1947-04-01    22.00\n",
       "1947-05-01    21.95\n",
       "dtype: float64"
      ]
     },
     "execution_count": 5,
     "metadata": {},
     "output_type": "execute_result"
    }
   ],
   "source": [
    "unemployment.head()\n",
    "fedfunds.head()\n",
    "cpi.head()"
   ]
  },
  {
   "cell_type": "code",
   "execution_count": null,
   "id": "55a9a10e-9911-4a21-ab8a-583dba679c45",
   "metadata": {},
   "outputs": [],
   "source": [
    "## 2. Data\n",
    "...\n",
    "## 3. Methodology\n",
    "...\n",
    "## 4. Results\n",
    "...\n",
    "## 5. Limitations\n",
    "...\n",
    "## 6. Code"
   ]
  }
 ],
 "metadata": {
  "kernelspec": {
   "display_name": "Python 3 (ipykernel)",
   "language": "python",
   "name": "python3"
  },
  "language_info": {
   "codemirror_mode": {
    "name": "ipython",
    "version": 3
   },
   "file_extension": ".py",
   "mimetype": "text/x-python",
   "name": "python",
   "nbconvert_exporter": "python",
   "pygments_lexer": "ipython3",
   "version": "3.13.5"
  }
 },
 "nbformat": 4,
 "nbformat_minor": 5
}
